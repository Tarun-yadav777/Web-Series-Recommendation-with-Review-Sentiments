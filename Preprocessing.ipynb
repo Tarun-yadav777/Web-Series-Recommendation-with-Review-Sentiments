{
 "cells": [
  {
   "cell_type": "code",
   "execution_count": 1,
   "metadata": {},
   "outputs": [],
   "source": [
    "import pandas as pd\n",
    "import numpy as np\n",
    "import matplotlib.pyplot as plt\n",
    "%matplotlib inline\n",
    "import seaborn as sns\n",
    "import numpy as np"
   ]
  },
  {
   "cell_type": "code",
   "execution_count": 2,
   "metadata": {},
   "outputs": [],
   "source": [
    "df = pd.read_csv('All_Streaming_Shows.csv')"
   ]
  },
  {
   "cell_type": "code",
   "execution_count": 3,
   "metadata": {},
   "outputs": [
    {
     "data": {
      "text/html": [
       "<div>\n",
       "<style scoped>\n",
       "    .dataframe tbody tr th:only-of-type {\n",
       "        vertical-align: middle;\n",
       "    }\n",
       "\n",
       "    .dataframe tbody tr th {\n",
       "        vertical-align: top;\n",
       "    }\n",
       "\n",
       "    .dataframe thead th {\n",
       "        text-align: right;\n",
       "    }\n",
       "</style>\n",
       "<table border=\"1\" class=\"dataframe\">\n",
       "  <thead>\n",
       "    <tr style=\"text-align: right;\">\n",
       "      <th></th>\n",
       "      <th>Series Title</th>\n",
       "      <th>Year Released</th>\n",
       "      <th>Content Rating</th>\n",
       "      <th>IMDB Rating</th>\n",
       "      <th>R Rating</th>\n",
       "      <th>Genre</th>\n",
       "      <th>Description</th>\n",
       "      <th>No of Seasons</th>\n",
       "      <th>Streaming Platform</th>\n",
       "    </tr>\n",
       "  </thead>\n",
       "  <tbody>\n",
       "    <tr>\n",
       "      <th>0</th>\n",
       "      <td>Breaking Bad</td>\n",
       "      <td>2008</td>\n",
       "      <td>18+</td>\n",
       "      <td>9.5</td>\n",
       "      <td>100</td>\n",
       "      <td>Crime,Drama</td>\n",
       "      <td>When Walter White, a New Mexico chemistry teac...</td>\n",
       "      <td>5Seasons</td>\n",
       "      <td>Netflix</td>\n",
       "    </tr>\n",
       "    <tr>\n",
       "      <th>1</th>\n",
       "      <td>Game of Thrones</td>\n",
       "      <td>2011</td>\n",
       "      <td>18+</td>\n",
       "      <td>9.3</td>\n",
       "      <td>99</td>\n",
       "      <td>Action &amp; Adventure,Drama</td>\n",
       "      <td>Seven noble families fight for control of the ...</td>\n",
       "      <td>8Seasons</td>\n",
       "      <td>HBO MAX,HBO</td>\n",
       "    </tr>\n",
       "    <tr>\n",
       "      <th>2</th>\n",
       "      <td>Rick and Morty</td>\n",
       "      <td>2013</td>\n",
       "      <td>18+</td>\n",
       "      <td>9.2</td>\n",
       "      <td>97</td>\n",
       "      <td>Animation,Comedy</td>\n",
       "      <td>Rick is a mentally-unbalanced but scientifical...</td>\n",
       "      <td>4Seasons</td>\n",
       "      <td>Free Services,HBO MAX,Hulu</td>\n",
       "    </tr>\n",
       "    <tr>\n",
       "      <th>3</th>\n",
       "      <td>Stranger Things</td>\n",
       "      <td>2016</td>\n",
       "      <td>16+</td>\n",
       "      <td>8.8</td>\n",
       "      <td>96</td>\n",
       "      <td>Drama,Fantasy</td>\n",
       "      <td>When a young boy vanishes, a small town uncove...</td>\n",
       "      <td>3Seasons</td>\n",
       "      <td>Netflix</td>\n",
       "    </tr>\n",
       "    <tr>\n",
       "      <th>4</th>\n",
       "      <td>The Boys</td>\n",
       "      <td>2019</td>\n",
       "      <td>18+</td>\n",
       "      <td>8.7</td>\n",
       "      <td>95</td>\n",
       "      <td>Action &amp; Adventure,Comedy</td>\n",
       "      <td>A group of vigilantes known informally as “The...</td>\n",
       "      <td>2Seasons</td>\n",
       "      <td>Prime Video</td>\n",
       "    </tr>\n",
       "  </tbody>\n",
       "</table>\n",
       "</div>"
      ],
      "text/plain": [
       "      Series Title  Year Released Content Rating  IMDB Rating  R Rating  \\\n",
       "0     Breaking Bad           2008            18+          9.5       100   \n",
       "1  Game of Thrones           2011            18+          9.3        99   \n",
       "2   Rick and Morty           2013            18+          9.2        97   \n",
       "3  Stranger Things           2016            16+          8.8        96   \n",
       "4         The Boys           2019            18+          8.7        95   \n",
       "\n",
       "                       Genre  \\\n",
       "0                Crime,Drama   \n",
       "1   Action & Adventure,Drama   \n",
       "2           Animation,Comedy   \n",
       "3              Drama,Fantasy   \n",
       "4  Action & Adventure,Comedy   \n",
       "\n",
       "                                         Description No of Seasons  \\\n",
       "0  When Walter White, a New Mexico chemistry teac...      5Seasons   \n",
       "1  Seven noble families fight for control of the ...      8Seasons   \n",
       "2  Rick is a mentally-unbalanced but scientifical...      4Seasons   \n",
       "3  When a young boy vanishes, a small town uncove...      3Seasons   \n",
       "4  A group of vigilantes known informally as “The...      2Seasons   \n",
       "\n",
       "           Streaming Platform  \n",
       "0                     Netflix  \n",
       "1                 HBO MAX,HBO  \n",
       "2  Free Services,HBO MAX,Hulu  \n",
       "3                     Netflix  \n",
       "4                 Prime Video  "
      ]
     },
     "execution_count": 3,
     "metadata": {},
     "output_type": "execute_result"
    }
   ],
   "source": [
    "df.head()"
   ]
  },
  {
   "cell_type": "code",
   "execution_count": 4,
   "metadata": {},
   "outputs": [
    {
     "name": "stdout",
     "output_type": "stream",
     "text": [
      "<class 'pandas.core.frame.DataFrame'>\n",
      "RangeIndex: 12353 entries, 0 to 12352\n",
      "Data columns (total 9 columns):\n",
      " #   Column              Non-Null Count  Dtype  \n",
      "---  ------              --------------  -----  \n",
      " 0   Series Title        12353 non-null  object \n",
      " 1   Year Released       12353 non-null  int64  \n",
      " 2   Content Rating      7232 non-null   object \n",
      " 3   IMDB Rating         10207 non-null  float64\n",
      " 4   R Rating            12353 non-null  int64  \n",
      " 5   Genre               12353 non-null  object \n",
      " 6   Description         12353 non-null  object \n",
      " 7   No of Seasons       12353 non-null  object \n",
      " 8   Streaming Platform  10370 non-null  object \n",
      "dtypes: float64(1), int64(2), object(6)\n",
      "memory usage: 868.7+ KB\n"
     ]
    }
   ],
   "source": [
    "df.info()"
   ]
  },
  {
   "cell_type": "code",
   "execution_count": 5,
   "metadata": {},
   "outputs": [],
   "source": [
    "df['No of Seasons'] = df['No of Seasons'].apply(lambda x:x.split('S')[0])"
   ]
  },
  {
   "cell_type": "code",
   "execution_count": 6,
   "metadata": {},
   "outputs": [
    {
     "data": {
      "text/html": [
       "<div>\n",
       "<style scoped>\n",
       "    .dataframe tbody tr th:only-of-type {\n",
       "        vertical-align: middle;\n",
       "    }\n",
       "\n",
       "    .dataframe tbody tr th {\n",
       "        vertical-align: top;\n",
       "    }\n",
       "\n",
       "    .dataframe thead th {\n",
       "        text-align: right;\n",
       "    }\n",
       "</style>\n",
       "<table border=\"1\" class=\"dataframe\">\n",
       "  <thead>\n",
       "    <tr style=\"text-align: right;\">\n",
       "      <th></th>\n",
       "      <th>Series Title</th>\n",
       "      <th>Year Released</th>\n",
       "      <th>Content Rating</th>\n",
       "      <th>IMDB Rating</th>\n",
       "      <th>R Rating</th>\n",
       "      <th>Genre</th>\n",
       "      <th>Description</th>\n",
       "      <th>No of Seasons</th>\n",
       "      <th>Streaming Platform</th>\n",
       "    </tr>\n",
       "  </thead>\n",
       "  <tbody>\n",
       "    <tr>\n",
       "      <th>0</th>\n",
       "      <td>Breaking Bad</td>\n",
       "      <td>2008</td>\n",
       "      <td>18+</td>\n",
       "      <td>9.5</td>\n",
       "      <td>100</td>\n",
       "      <td>Crime,Drama</td>\n",
       "      <td>When Walter White, a New Mexico chemistry teac...</td>\n",
       "      <td>5</td>\n",
       "      <td>Netflix</td>\n",
       "    </tr>\n",
       "    <tr>\n",
       "      <th>1</th>\n",
       "      <td>Game of Thrones</td>\n",
       "      <td>2011</td>\n",
       "      <td>18+</td>\n",
       "      <td>9.3</td>\n",
       "      <td>99</td>\n",
       "      <td>Action &amp; Adventure,Drama</td>\n",
       "      <td>Seven noble families fight for control of the ...</td>\n",
       "      <td>8</td>\n",
       "      <td>HBO MAX,HBO</td>\n",
       "    </tr>\n",
       "    <tr>\n",
       "      <th>2</th>\n",
       "      <td>Rick and Morty</td>\n",
       "      <td>2013</td>\n",
       "      <td>18+</td>\n",
       "      <td>9.2</td>\n",
       "      <td>97</td>\n",
       "      <td>Animation,Comedy</td>\n",
       "      <td>Rick is a mentally-unbalanced but scientifical...</td>\n",
       "      <td>4</td>\n",
       "      <td>Free Services,HBO MAX,Hulu</td>\n",
       "    </tr>\n",
       "    <tr>\n",
       "      <th>3</th>\n",
       "      <td>Stranger Things</td>\n",
       "      <td>2016</td>\n",
       "      <td>16+</td>\n",
       "      <td>8.8</td>\n",
       "      <td>96</td>\n",
       "      <td>Drama,Fantasy</td>\n",
       "      <td>When a young boy vanishes, a small town uncove...</td>\n",
       "      <td>3</td>\n",
       "      <td>Netflix</td>\n",
       "    </tr>\n",
       "    <tr>\n",
       "      <th>4</th>\n",
       "      <td>The Boys</td>\n",
       "      <td>2019</td>\n",
       "      <td>18+</td>\n",
       "      <td>8.7</td>\n",
       "      <td>95</td>\n",
       "      <td>Action &amp; Adventure,Comedy</td>\n",
       "      <td>A group of vigilantes known informally as “The...</td>\n",
       "      <td>2</td>\n",
       "      <td>Prime Video</td>\n",
       "    </tr>\n",
       "  </tbody>\n",
       "</table>\n",
       "</div>"
      ],
      "text/plain": [
       "      Series Title  Year Released Content Rating  IMDB Rating  R Rating  \\\n",
       "0     Breaking Bad           2008            18+          9.5       100   \n",
       "1  Game of Thrones           2011            18+          9.3        99   \n",
       "2   Rick and Morty           2013            18+          9.2        97   \n",
       "3  Stranger Things           2016            16+          8.8        96   \n",
       "4         The Boys           2019            18+          8.7        95   \n",
       "\n",
       "                       Genre  \\\n",
       "0                Crime,Drama   \n",
       "1   Action & Adventure,Drama   \n",
       "2           Animation,Comedy   \n",
       "3              Drama,Fantasy   \n",
       "4  Action & Adventure,Comedy   \n",
       "\n",
       "                                         Description No of Seasons  \\\n",
       "0  When Walter White, a New Mexico chemistry teac...             5   \n",
       "1  Seven noble families fight for control of the ...             8   \n",
       "2  Rick is a mentally-unbalanced but scientifical...             4   \n",
       "3  When a young boy vanishes, a small town uncove...             3   \n",
       "4  A group of vigilantes known informally as “The...             2   \n",
       "\n",
       "           Streaming Platform  \n",
       "0                     Netflix  \n",
       "1                 HBO MAX,HBO  \n",
       "2  Free Services,HBO MAX,Hulu  \n",
       "3                     Netflix  \n",
       "4                 Prime Video  "
      ]
     },
     "execution_count": 6,
     "metadata": {},
     "output_type": "execute_result"
    }
   ],
   "source": [
    "df.head()"
   ]
  },
  {
   "cell_type": "code",
   "execution_count": 7,
   "metadata": {},
   "outputs": [
    {
     "data": {
      "text/plain": [
       "Series Title             0\n",
       "Year Released            0\n",
       "Content Rating        5121\n",
       "IMDB Rating           2146\n",
       "R Rating                 0\n",
       "Genre                    0\n",
       "Description              0\n",
       "No of Seasons            0\n",
       "Streaming Platform    1983\n",
       "dtype: int64"
      ]
     },
     "execution_count": 7,
     "metadata": {},
     "output_type": "execute_result"
    }
   ],
   "source": [
    "df.isnull().sum()"
   ]
  },
  {
   "cell_type": "markdown",
   "metadata": {},
   "source": [
    "###  Handling Content Rating Missing values"
   ]
  },
  {
   "cell_type": "code",
   "execution_count": 8,
   "metadata": {},
   "outputs": [
    {
     "data": {
      "text/plain": [
       "array(['18+', '16+', '7+', 'all', nan, '13+'], dtype=object)"
      ]
     },
     "execution_count": 8,
     "metadata": {},
     "output_type": "execute_result"
    }
   ],
   "source": [
    "df['Content Rating'].unique()"
   ]
  },
  {
   "cell_type": "code",
   "execution_count": 9,
   "metadata": {},
   "outputs": [
    {
     "data": {
      "text/plain": [
       "16+    2581\n",
       "7+     2048\n",
       "18+    1462\n",
       "all    1134\n",
       "13+       7\n",
       "Name: Content Rating, dtype: int64"
      ]
     },
     "execution_count": 9,
     "metadata": {},
     "output_type": "execute_result"
    }
   ],
   "source": [
    "df['Content Rating'].value_counts()"
   ]
  },
  {
   "cell_type": "code",
   "execution_count": 10,
   "metadata": {},
   "outputs": [
    {
     "data": {
      "text/html": [
       "<div>\n",
       "<style scoped>\n",
       "    .dataframe tbody tr th:only-of-type {\n",
       "        vertical-align: middle;\n",
       "    }\n",
       "\n",
       "    .dataframe tbody tr th {\n",
       "        vertical-align: top;\n",
       "    }\n",
       "\n",
       "    .dataframe thead th {\n",
       "        text-align: right;\n",
       "    }\n",
       "</style>\n",
       "<table border=\"1\" class=\"dataframe\">\n",
       "  <thead>\n",
       "    <tr style=\"text-align: right;\">\n",
       "      <th></th>\n",
       "      <th>Series Title</th>\n",
       "      <th>Year Released</th>\n",
       "      <th>Content Rating</th>\n",
       "      <th>IMDB Rating</th>\n",
       "      <th>R Rating</th>\n",
       "      <th>Genre</th>\n",
       "      <th>Description</th>\n",
       "      <th>No of Seasons</th>\n",
       "      <th>Streaming Platform</th>\n",
       "    </tr>\n",
       "  </thead>\n",
       "  <tbody>\n",
       "    <tr>\n",
       "      <th>374</th>\n",
       "      <td>Delhi Crime</td>\n",
       "      <td>2019</td>\n",
       "      <td>NaN</td>\n",
       "      <td>8.5</td>\n",
       "      <td>79</td>\n",
       "      <td>Crime,Drama</td>\n",
       "      <td>As Delhi reels in the aftermath of a gang rape...</td>\n",
       "      <td>1</td>\n",
       "      <td>Netflix</td>\n",
       "    </tr>\n",
       "    <tr>\n",
       "      <th>527</th>\n",
       "      <td>Lenox Hill</td>\n",
       "      <td>2020</td>\n",
       "      <td>NaN</td>\n",
       "      <td>8.8</td>\n",
       "      <td>76</td>\n",
       "      <td>Documentary,2020</td>\n",
       "      <td>From birth to brain surgery: This docuseries p...</td>\n",
       "      <td>1</td>\n",
       "      <td>Netflix</td>\n",
       "    </tr>\n",
       "    <tr>\n",
       "      <th>537</th>\n",
       "      <td>The Capture</td>\n",
       "      <td>2019</td>\n",
       "      <td>NaN</td>\n",
       "      <td>7.8</td>\n",
       "      <td>76</td>\n",
       "      <td>Crime,Mystery</td>\n",
       "      <td>When soldier Shaun Emery's conviction for a mu...</td>\n",
       "      <td>1</td>\n",
       "      <td>Free Services,Peacock Premium</td>\n",
       "    </tr>\n",
       "    <tr>\n",
       "      <th>594</th>\n",
       "      <td>Kuroko's Basketball</td>\n",
       "      <td>2012</td>\n",
       "      <td>NaN</td>\n",
       "      <td>8.3</td>\n",
       "      <td>75</td>\n",
       "      <td>Animation,Anime</td>\n",
       "      <td>In the story, Kagami Taiga has just enrolled i...</td>\n",
       "      <td>3</td>\n",
       "      <td>Free Services</td>\n",
       "    </tr>\n",
       "    <tr>\n",
       "      <th>647</th>\n",
       "      <td>I, Claudius</td>\n",
       "      <td>1976</td>\n",
       "      <td>NaN</td>\n",
       "      <td>8.7</td>\n",
       "      <td>75</td>\n",
       "      <td>Drama,Biography</td>\n",
       "      <td>Acclaimed blackly comic historical drama serie...</td>\n",
       "      <td>1</td>\n",
       "      <td>AcornTV,Hoopla</td>\n",
       "    </tr>\n",
       "    <tr>\n",
       "      <th>...</th>\n",
       "      <td>...</td>\n",
       "      <td>...</td>\n",
       "      <td>...</td>\n",
       "      <td>...</td>\n",
       "      <td>...</td>\n",
       "      <td>...</td>\n",
       "      <td>...</td>\n",
       "      <td>...</td>\n",
       "      <td>...</td>\n",
       "    </tr>\n",
       "    <tr>\n",
       "      <th>12348</th>\n",
       "      <td>A Fishing Story with Ronnie Green</td>\n",
       "      <td>2017</td>\n",
       "      <td>NaN</td>\n",
       "      <td>NaN</td>\n",
       "      <td>-1</td>\n",
       "      <td>2017,Prime Video</td>\n",
       "      <td>A Fishing Story with Ronnie Green has one or m...</td>\n",
       "      <td>2</td>\n",
       "      <td>Prime Video,fuboTV</td>\n",
       "    </tr>\n",
       "    <tr>\n",
       "      <th>12349</th>\n",
       "      <td>CMT Most Shocking</td>\n",
       "      <td>2003</td>\n",
       "      <td>NaN</td>\n",
       "      <td>NaN</td>\n",
       "      <td>-1</td>\n",
       "      <td>-1</td>\n",
       "      <td>-1</td>\n",
       "      <td>-1</td>\n",
       "      <td>-1</td>\n",
       "    </tr>\n",
       "    <tr>\n",
       "      <th>12350</th>\n",
       "      <td>NHL Road to the Outdoor Classics</td>\n",
       "      <td>2016</td>\n",
       "      <td>NaN</td>\n",
       "      <td>NaN</td>\n",
       "      <td>-1</td>\n",
       "      <td>2016,Prime Video</td>\n",
       "      <td>Road to the NHL Outdoor Classics takes us deep...</td>\n",
       "      <td>1</td>\n",
       "      <td>Prime Video,Epix</td>\n",
       "    </tr>\n",
       "    <tr>\n",
       "      <th>12351</th>\n",
       "      <td>Addy Media</td>\n",
       "      <td>2018</td>\n",
       "      <td>NaN</td>\n",
       "      <td>NaN</td>\n",
       "      <td>-1</td>\n",
       "      <td>2018,Prime Video</td>\n",
       "      <td>Addy Media has one or more episodes streaming ...</td>\n",
       "      <td>1</td>\n",
       "      <td>Prime Video</td>\n",
       "    </tr>\n",
       "    <tr>\n",
       "      <th>12352</th>\n",
       "      <td>My Dream Derelict Home</td>\n",
       "      <td>2014</td>\n",
       "      <td>NaN</td>\n",
       "      <td>NaN</td>\n",
       "      <td>-1</td>\n",
       "      <td>2014,Free Services</td>\n",
       "      <td>My Dream Derelict Home has one or more episode...</td>\n",
       "      <td>1</td>\n",
       "      <td>Free Services,Prime Video</td>\n",
       "    </tr>\n",
       "  </tbody>\n",
       "</table>\n",
       "<p>5121 rows × 9 columns</p>\n",
       "</div>"
      ],
      "text/plain": [
       "                            Series Title  Year Released Content Rating  \\\n",
       "374                          Delhi Crime           2019            NaN   \n",
       "527                           Lenox Hill           2020            NaN   \n",
       "537                          The Capture           2019            NaN   \n",
       "594                  Kuroko's Basketball           2012            NaN   \n",
       "647                          I, Claudius           1976            NaN   \n",
       "...                                  ...            ...            ...   \n",
       "12348  A Fishing Story with Ronnie Green           2017            NaN   \n",
       "12349                  CMT Most Shocking           2003            NaN   \n",
       "12350   NHL Road to the Outdoor Classics           2016            NaN   \n",
       "12351                         Addy Media           2018            NaN   \n",
       "12352             My Dream Derelict Home           2014            NaN   \n",
       "\n",
       "       IMDB Rating  R Rating               Genre  \\\n",
       "374            8.5        79         Crime,Drama   \n",
       "527            8.8        76    Documentary,2020   \n",
       "537            7.8        76       Crime,Mystery   \n",
       "594            8.3        75     Animation,Anime   \n",
       "647            8.7        75     Drama,Biography   \n",
       "...            ...       ...                 ...   \n",
       "12348          NaN        -1    2017,Prime Video   \n",
       "12349          NaN        -1                  -1   \n",
       "12350          NaN        -1    2016,Prime Video   \n",
       "12351          NaN        -1    2018,Prime Video   \n",
       "12352          NaN        -1  2014,Free Services   \n",
       "\n",
       "                                             Description No of Seasons  \\\n",
       "374    As Delhi reels in the aftermath of a gang rape...             1   \n",
       "527    From birth to brain surgery: This docuseries p...             1   \n",
       "537    When soldier Shaun Emery's conviction for a mu...            1    \n",
       "594    In the story, Kagami Taiga has just enrolled i...            3    \n",
       "647    Acclaimed blackly comic historical drama serie...             1   \n",
       "...                                                  ...           ...   \n",
       "12348  A Fishing Story with Ronnie Green has one or m...             2   \n",
       "12349                                                 -1            -1   \n",
       "12350  Road to the NHL Outdoor Classics takes us deep...             1   \n",
       "12351  Addy Media has one or more episodes streaming ...             1   \n",
       "12352  My Dream Derelict Home has one or more episode...             1   \n",
       "\n",
       "                  Streaming Platform  \n",
       "374                          Netflix  \n",
       "527                          Netflix  \n",
       "537    Free Services,Peacock Premium  \n",
       "594                    Free Services  \n",
       "647                   AcornTV,Hoopla  \n",
       "...                              ...  \n",
       "12348             Prime Video,fuboTV  \n",
       "12349                             -1  \n",
       "12350               Prime Video,Epix  \n",
       "12351                    Prime Video  \n",
       "12352      Free Services,Prime Video  \n",
       "\n",
       "[5121 rows x 9 columns]"
      ]
     },
     "execution_count": 10,
     "metadata": {},
     "output_type": "execute_result"
    }
   ],
   "source": [
    "df[df['Content Rating'].isnull()]"
   ]
  },
  {
   "cell_type": "code",
   "execution_count": 11,
   "metadata": {},
   "outputs": [],
   "source": [
    "df_18 = df[df['Content Rating']=='18+']"
   ]
  },
  {
   "cell_type": "code",
   "execution_count": 12,
   "metadata": {},
   "outputs": [
    {
     "data": {
      "text/plain": [
       "<matplotlib.axes._subplots.AxesSubplot at 0x1fd2fe352b0>"
      ]
     },
     "execution_count": 12,
     "metadata": {},
     "output_type": "execute_result"
    },
    {
     "data": {
      "image/png": "[encoded data removed]",
      "text/plain": [
       "<Figure size 864x432 with 1 Axes>"
      ]
     },
     "metadata": {
      "needs_background": "light"
     },
     "output_type": "display_data"
    }
   ],
   "source": [
    "plt.figure(figsize=(12,6))\n",
    "plt.xticks(rotation=45)\n",
    "sns.countplot(df_18['Year Released'])"
   ]
  },
  {
   "cell_type": "code",
   "execution_count": 13,
   "metadata": {},
   "outputs": [
    {
     "data": {
      "text/plain": [
       "<matplotlib.axes._subplots.AxesSubplot at 0x1fd3080c040>"
      ]
     },
     "execution_count": 13,
     "metadata": {},
     "output_type": "execute_result"
    },
    {
     "data": {
      "image/png": "[encoded data removed]",
      "text/plain": [
       "<Figure size 864x432 with 1 Axes>"
      ]
     },
     "metadata": {
      "needs_background": "light"
     },
     "output_type": "display_data"
    }
   ],
   "source": [
    "df_7 = df[df['Content Rating']=='7+']\n",
    "plt.figure(figsize=(12,6))\n",
    "plt.xticks(rotation=90)\n",
    "sns.countplot(df_7['Year Released'])"
   ]
  },
  {
   "cell_type": "code",
   "execution_count": 14,
   "metadata": {},
   "outputs": [
    {
     "data": {
      "text/plain": [
       "<matplotlib.axes._subplots.AxesSubplot at 0x1fd30c227f0>"
      ]
     },
     "execution_count": 14,
     "metadata": {},
     "output_type": "execute_result"
    },
    {
     "data": {
      "image/png": "[encoded data removed]",
      "text/plain": [
       "<Figure size 864x432 with 1 Axes>"
      ]
     },
     "metadata": {
      "needs_background": "light"
     },
     "output_type": "display_data"
    }
   ],
   "source": [
    "df_16 = df[df['Content Rating']=='16+']\n",
    "plt.figure(figsize=(12,6))\n",
    "plt.xticks(rotation=90)\n",
    "sns.countplot(df_16['Year Released'])"
   ]
  },
  {
   "cell_type": "code",
   "execution_count": 15,
   "metadata": {},
   "outputs": [
    {
     "data": {
      "text/plain": [
       "<matplotlib.axes._subplots.AxesSubplot at 0x1fd31ec1790>"
      ]
     },
     "execution_count": 15,
     "metadata": {},
     "output_type": "execute_result"
    },
    {
     "data": {
      "image/png": "[encoded data removed]",
      "text/plain": [
       "<Figure size 864x432 with 1 Axes>"
      ]
     },
     "metadata": {
      "needs_background": "light"
     },
     "output_type": "display_data"
    }
   ],
   "source": [
    "df_13 = df[df['Content Rating']=='13+']\n",
    "plt.figure(figsize=(12,6))\n",
    "plt.xticks(rotation=45)\n",
    "sns.countplot(df_13['Year Released'])"
   ]
  },
  {
   "cell_type": "code",
   "execution_count": 16,
   "metadata": {},
   "outputs": [
    {
     "data": {
      "text/plain": [
       "<matplotlib.axes._subplots.AxesSubplot at 0x1fd307d2820>"
      ]
     },
     "execution_count": 16,
     "metadata": {},
     "output_type": "execute_result"
    },
    {
     "data": {
      "image/png": "[encoded data removed]",
      "text/plain": [
       "<Figure size 1008x432 with 1 Axes>"
      ]
     },
     "metadata": {
      "needs_background": "light"
     },
     "output_type": "display_data"
    }
   ],
   "source": [
    "df_all = df[df['Content Rating']=='all']\n",
    "plt.figure(figsize=(14,6))\n",
    "plt.xticks(rotation=90)\n",
    "sns.countplot(df_all['Year Released'])"
   ]
  },
  {
   "cell_type": "code",
   "execution_count": 17,
   "metadata": {},
   "outputs": [
    {
     "name": "stderr",
     "output_type": "stream",
     "text": [
      "C:\\Users\\tarun\\anaconda3\\lib\\site-packages\\pandas\\core\\indexing.py:671: SettingWithCopyWarning: \n",
      "A value is trying to be set on a copy of a slice from a DataFrame\n",
      "\n",
      "See the caveats in the documentation: https://pandas.pydata.org/pandas-docs/stable/user_guide/indexing.html#returning-a-view-versus-a-copy\n",
      "  self._setitem_with_indexer(indexer, value)\n"
     ]
    }
   ],
   "source": [
    "cr_indexes = df[df['Content Rating'].isnull()].index\n",
    "last_decade = [i for i in range(2000,2021)]\n",
    "for index in cr_indexes:\n",
    "    if df.loc[index][\"Year Released\"] in last_decade:\n",
    "        df[\"Content Rating\"].loc[index] = \"16+\"\n",
    "    else:\n",
    "        df[\"Content Rating\"].loc[index]= 'all'\n"
   ]
  },
  {
   "cell_type": "code",
   "execution_count": 18,
   "metadata": {},
   "outputs": [
    {
     "data": {
      "text/plain": [
       "0"
      ]
     },
     "execution_count": 18,
     "metadata": {},
     "output_type": "execute_result"
    }
   ],
   "source": [
    "df['Content Rating'].isnull().sum()"
   ]
  },
  {
   "cell_type": "markdown",
   "metadata": {},
   "source": [
    "### Handling IMDB Rating missing values "
   ]
  },
  {
   "cell_type": "code",
   "execution_count": 19,
   "metadata": {},
   "outputs": [],
   "source": [
    "lower_bound = 0\n",
    "upper_bound =1000 \n",
    "avg_imdb_rating = []\n",
    "for i in range(12):\n",
    "    avg_imdb_rating.append(round(np.mean(df.loc[i:(i+1)*1000]['IMDB Rating']),1))\n",
    "    if i<0:\n",
    "        lower_bound = i\n",
    "        upper_bound = (i+1)*1000\n",
    "    else:\n",
    "        lower_bound = i*1000\n",
    "        upper_bound = (i+1)*1000"
   ]
  },
  {
   "cell_type": "code",
   "execution_count": 20,
   "metadata": {},
   "outputs": [
    {
     "data": {
      "text/plain": [
       "[8.0, 7.8, 7.6, 7.5, 7.4, 7.3, 7.2, 7.1, 7.1, 7.0, 7.0, 7.0]"
      ]
     },
     "execution_count": 20,
     "metadata": {},
     "output_type": "execute_result"
    }
   ],
   "source": [
    "avg_imdb_rating"
   ]
  },
  {
   "cell_type": "code",
   "execution_count": 21,
   "metadata": {},
   "outputs": [
    {
     "data": {
      "text/html": [
       "<div>\n",
       "<style scoped>\n",
       "    .dataframe tbody tr th:only-of-type {\n",
       "        vertical-align: middle;\n",
       "    }\n",
       "\n",
       "    .dataframe tbody tr th {\n",
       "        vertical-align: top;\n",
       "    }\n",
       "\n",
       "    .dataframe thead th {\n",
       "        text-align: right;\n",
       "    }\n",
       "</style>\n",
       "<table border=\"1\" class=\"dataframe\">\n",
       "  <thead>\n",
       "    <tr style=\"text-align: right;\">\n",
       "      <th></th>\n",
       "      <th>Series Title</th>\n",
       "      <th>Year Released</th>\n",
       "      <th>Content Rating</th>\n",
       "      <th>IMDB Rating</th>\n",
       "      <th>R Rating</th>\n",
       "      <th>Genre</th>\n",
       "      <th>Description</th>\n",
       "      <th>No of Seasons</th>\n",
       "      <th>Streaming Platform</th>\n",
       "    </tr>\n",
       "  </thead>\n",
       "  <tbody>\n",
       "    <tr>\n",
       "      <th>1404</th>\n",
       "      <td>Steven Universe Future</td>\n",
       "      <td>2019</td>\n",
       "      <td>7+</td>\n",
       "      <td>NaN</td>\n",
       "      <td>67</td>\n",
       "      <td>Action &amp; Adventure,Animation</td>\n",
       "      <td>After saving the universe, Steven is still at ...</td>\n",
       "      <td>2</td>\n",
       "      <td>Free Services,HBO MAX,Cartoon Network</td>\n",
       "    </tr>\n",
       "    <tr>\n",
       "      <th>3356</th>\n",
       "      <td>Find Yourself</td>\n",
       "      <td>2020</td>\n",
       "      <td>16+</td>\n",
       "      <td>NaN</td>\n",
       "      <td>57</td>\n",
       "      <td>Drama,2020</td>\n",
       "      <td>A determined entrepreneur navigates a love tri...</td>\n",
       "      <td>1</td>\n",
       "      <td>Netflix</td>\n",
       "    </tr>\n",
       "    <tr>\n",
       "      <th>3837</th>\n",
       "      <td>Connected</td>\n",
       "      <td>2020</td>\n",
       "      <td>16+</td>\n",
       "      <td>NaN</td>\n",
       "      <td>55</td>\n",
       "      <td>Animation,Action &amp; Adventure</td>\n",
       "      <td>Science journalist Latif Nasser investigates t...</td>\n",
       "      <td>1</td>\n",
       "      <td>Netflix</td>\n",
       "    </tr>\n",
       "    <tr>\n",
       "      <th>4059</th>\n",
       "      <td>A Love So Beautiful</td>\n",
       "      <td>2017</td>\n",
       "      <td>16+</td>\n",
       "      <td>NaN</td>\n",
       "      <td>54</td>\n",
       "      <td>Drama,Romance</td>\n",
       "      <td>It tells the love story of two childhood sweet...</td>\n",
       "      <td>1</td>\n",
       "      <td>Netflix</td>\n",
       "    </tr>\n",
       "    <tr>\n",
       "      <th>4469</th>\n",
       "      <td>La Promesa</td>\n",
       "      <td>2013</td>\n",
       "      <td>16+</td>\n",
       "      <td>NaN</td>\n",
       "      <td>53</td>\n",
       "      <td>2013,Free Services</td>\n",
       "      <td>La Promesa has one or more episodes streaming ...</td>\n",
       "      <td>1</td>\n",
       "      <td>Free Services,Starz</td>\n",
       "    </tr>\n",
       "    <tr>\n",
       "      <th>...</th>\n",
       "      <td>...</td>\n",
       "      <td>...</td>\n",
       "      <td>...</td>\n",
       "      <td>...</td>\n",
       "      <td>...</td>\n",
       "      <td>...</td>\n",
       "      <td>...</td>\n",
       "      <td>...</td>\n",
       "      <td>...</td>\n",
       "    </tr>\n",
       "    <tr>\n",
       "      <th>12348</th>\n",
       "      <td>A Fishing Story with Ronnie Green</td>\n",
       "      <td>2017</td>\n",
       "      <td>16+</td>\n",
       "      <td>NaN</td>\n",
       "      <td>-1</td>\n",
       "      <td>2017,Prime Video</td>\n",
       "      <td>A Fishing Story with Ronnie Green has one or m...</td>\n",
       "      <td>2</td>\n",
       "      <td>Prime Video,fuboTV</td>\n",
       "    </tr>\n",
       "    <tr>\n",
       "      <th>12349</th>\n",
       "      <td>CMT Most Shocking</td>\n",
       "      <td>2003</td>\n",
       "      <td>16+</td>\n",
       "      <td>NaN</td>\n",
       "      <td>-1</td>\n",
       "      <td>-1</td>\n",
       "      <td>-1</td>\n",
       "      <td>-1</td>\n",
       "      <td>-1</td>\n",
       "    </tr>\n",
       "    <tr>\n",
       "      <th>12350</th>\n",
       "      <td>NHL Road to the Outdoor Classics</td>\n",
       "      <td>2016</td>\n",
       "      <td>16+</td>\n",
       "      <td>NaN</td>\n",
       "      <td>-1</td>\n",
       "      <td>2016,Prime Video</td>\n",
       "      <td>Road to the NHL Outdoor Classics takes us deep...</td>\n",
       "      <td>1</td>\n",
       "      <td>Prime Video,Epix</td>\n",
       "    </tr>\n",
       "    <tr>\n",
       "      <th>12351</th>\n",
       "      <td>Addy Media</td>\n",
       "      <td>2018</td>\n",
       "      <td>16+</td>\n",
       "      <td>NaN</td>\n",
       "      <td>-1</td>\n",
       "      <td>2018,Prime Video</td>\n",
       "      <td>Addy Media has one or more episodes streaming ...</td>\n",
       "      <td>1</td>\n",
       "      <td>Prime Video</td>\n",
       "    </tr>\n",
       "    <tr>\n",
       "      <th>12352</th>\n",
       "      <td>My Dream Derelict Home</td>\n",
       "      <td>2014</td>\n",
       "      <td>16+</td>\n",
       "      <td>NaN</td>\n",
       "      <td>-1</td>\n",
       "      <td>2014,Free Services</td>\n",
       "      <td>My Dream Derelict Home has one or more episode...</td>\n",
       "      <td>1</td>\n",
       "      <td>Free Services,Prime Video</td>\n",
       "    </tr>\n",
       "  </tbody>\n",
       "</table>\n",
       "<p>2146 rows × 9 columns</p>\n",
       "</div>"
      ],
      "text/plain": [
       "                            Series Title  Year Released Content Rating  \\\n",
       "1404              Steven Universe Future           2019             7+   \n",
       "3356                       Find Yourself           2020            16+   \n",
       "3837                           Connected           2020            16+   \n",
       "4059                 A Love So Beautiful           2017            16+   \n",
       "4469                          La Promesa           2013            16+   \n",
       "...                                  ...            ...            ...   \n",
       "12348  A Fishing Story with Ronnie Green           2017            16+   \n",
       "12349                  CMT Most Shocking           2003            16+   \n",
       "12350   NHL Road to the Outdoor Classics           2016            16+   \n",
       "12351                         Addy Media           2018            16+   \n",
       "12352             My Dream Derelict Home           2014            16+   \n",
       "\n",
       "       IMDB Rating  R Rating                         Genre  \\\n",
       "1404           NaN        67  Action & Adventure,Animation   \n",
       "3356           NaN        57                    Drama,2020   \n",
       "3837           NaN        55  Animation,Action & Adventure   \n",
       "4059           NaN        54                 Drama,Romance   \n",
       "4469           NaN        53            2013,Free Services   \n",
       "...            ...       ...                           ...   \n",
       "12348          NaN        -1              2017,Prime Video   \n",
       "12349          NaN        -1                            -1   \n",
       "12350          NaN        -1              2016,Prime Video   \n",
       "12351          NaN        -1              2018,Prime Video   \n",
       "12352          NaN        -1            2014,Free Services   \n",
       "\n",
       "                                             Description No of Seasons  \\\n",
       "1404   After saving the universe, Steven is still at ...             2   \n",
       "3356   A determined entrepreneur navigates a love tri...             1   \n",
       "3837   Science journalist Latif Nasser investigates t...             1   \n",
       "4059   It tells the love story of two childhood sweet...             1   \n",
       "4469   La Promesa has one or more episodes streaming ...             1   \n",
       "...                                                  ...           ...   \n",
       "12348  A Fishing Story with Ronnie Green has one or m...             2   \n",
       "12349                                                 -1            -1   \n",
       "12350  Road to the NHL Outdoor Classics takes us deep...             1   \n",
       "12351  Addy Media has one or more episodes streaming ...             1   \n",
       "12352  My Dream Derelict Home has one or more episode...             1   \n",
       "\n",
       "                          Streaming Platform  \n",
       "1404   Free Services,HBO MAX,Cartoon Network  \n",
       "3356                                 Netflix  \n",
       "3837                                 Netflix  \n",
       "4059                                 Netflix  \n",
       "4469                     Free Services,Starz  \n",
       "...                                      ...  \n",
       "12348                     Prime Video,fuboTV  \n",
       "12349                                     -1  \n",
       "12350                       Prime Video,Epix  \n",
       "12351                            Prime Video  \n",
       "12352              Free Services,Prime Video  \n",
       "\n",
       "[2146 rows x 9 columns]"
      ]
     },
     "execution_count": 21,
     "metadata": {},
     "output_type": "execute_result"
    }
   ],
   "source": [
    "df[df['IMDB Rating'].isnull()]"
   ]
  },
  {
   "cell_type": "code",
   "execution_count": 22,
   "metadata": {},
   "outputs": [],
   "source": [
    "indexes = df[df['IMDB Rating'].isnull()].index"
   ]
  },
  {
   "cell_type": "code",
   "execution_count": 23,
   "metadata": {
    "scrolled": true
   },
   "outputs": [
    {
     "name": "stderr",
     "output_type": "stream",
     "text": [
      "<ipython-input-23-b84bacaee731>:5: SettingWithCopyWarning: \n",
      "A value is trying to be set on a copy of a slice from a DataFrame\n",
      "\n",
      "See the caveats in the documentation: https://pandas.pydata.org/pandas-docs/stable/user_guide/indexing.html#returning-a-view-versus-a-copy\n",
      "  df['IMDB Rating'][index] = avg_imdb_rating[1]\n",
      "<ipython-input-23-b84bacaee731>:9: SettingWithCopyWarning: \n",
      "A value is trying to be set on a copy of a slice from a DataFrame\n",
      "\n",
      "See the caveats in the documentation: https://pandas.pydata.org/pandas-docs/stable/user_guide/indexing.html#returning-a-view-versus-a-copy\n",
      "  df['IMDB Rating'][index] = avg_imdb_rating[3]\n",
      "<ipython-input-23-b84bacaee731>:11: SettingWithCopyWarning: \n",
      "A value is trying to be set on a copy of a slice from a DataFrame\n",
      "\n",
      "See the caveats in the documentation: https://pandas.pydata.org/pandas-docs/stable/user_guide/indexing.html#returning-a-view-versus-a-copy\n",
      "  df['IMDB Rating'][index] = avg_imdb_rating[4]\n",
      "<ipython-input-23-b84bacaee731>:13: SettingWithCopyWarning: \n",
      "A value is trying to be set on a copy of a slice from a DataFrame\n",
      "\n",
      "See the caveats in the documentation: https://pandas.pydata.org/pandas-docs/stable/user_guide/indexing.html#returning-a-view-versus-a-copy\n",
      "  df['IMDB Rating'][index] = avg_imdb_rating[5]\n",
      "<ipython-input-23-b84bacaee731>:15: SettingWithCopyWarning: \n",
      "A value is trying to be set on a copy of a slice from a DataFrame\n",
      "\n",
      "See the caveats in the documentation: https://pandas.pydata.org/pandas-docs/stable/user_guide/indexing.html#returning-a-view-versus-a-copy\n",
      "  df['IMDB Rating'][index] = avg_imdb_rating[6]\n",
      "<ipython-input-23-b84bacaee731>:17: SettingWithCopyWarning: \n",
      "A value is trying to be set on a copy of a slice from a DataFrame\n",
      "\n",
      "See the caveats in the documentation: https://pandas.pydata.org/pandas-docs/stable/user_guide/indexing.html#returning-a-view-versus-a-copy\n",
      "  df['IMDB Rating'][index] = avg_imdb_rating[7]\n",
      "<ipython-input-23-b84bacaee731>:25: SettingWithCopyWarning: \n",
      "A value is trying to be set on a copy of a slice from a DataFrame\n",
      "\n",
      "See the caveats in the documentation: https://pandas.pydata.org/pandas-docs/stable/user_guide/indexing.html#returning-a-view-versus-a-copy\n",
      "  df['IMDB Rating'][index] = avg_imdb_rating[11]\n",
      "<ipython-input-23-b84bacaee731>:19: SettingWithCopyWarning: \n",
      "A value is trying to be set on a copy of a slice from a DataFrame\n",
      "\n",
      "See the caveats in the documentation: https://pandas.pydata.org/pandas-docs/stable/user_guide/indexing.html#returning-a-view-versus-a-copy\n",
      "  df['IMDB Rating'][index] = avg_imdb_rating[8]\n",
      "<ipython-input-23-b84bacaee731>:21: SettingWithCopyWarning: \n",
      "A value is trying to be set on a copy of a slice from a DataFrame\n",
      "\n",
      "See the caveats in the documentation: https://pandas.pydata.org/pandas-docs/stable/user_guide/indexing.html#returning-a-view-versus-a-copy\n",
      "  df['IMDB Rating'][index] = avg_imdb_rating[9]\n",
      "<ipython-input-23-b84bacaee731>:23: SettingWithCopyWarning: \n",
      "A value is trying to be set on a copy of a slice from a DataFrame\n",
      "\n",
      "See the caveats in the documentation: https://pandas.pydata.org/pandas-docs/stable/user_guide/indexing.html#returning-a-view-versus-a-copy\n",
      "  df['IMDB Rating'][index] = avg_imdb_rating[10]\n"
     ]
    }
   ],
   "source": [
    "for index in indexes:\n",
    "    if  0<index<1000:\n",
    "        df['IMDB Rating'][index] = avg_imdb_rating[0]\n",
    "    elif 1000<index<2000:\n",
    "        df['IMDB Rating'][index] = avg_imdb_rating[1]\n",
    "    elif 2000<index<3000:\n",
    "        df['IMDB Rating'][index] = avg_imdb_rating[2]\n",
    "    elif 3000<index<4000:\n",
    "        df['IMDB Rating'][index] = avg_imdb_rating[3]\n",
    "    elif 4000<index<5000:\n",
    "        df['IMDB Rating'][index] = avg_imdb_rating[4]\n",
    "    elif 5000<index<6000:\n",
    "        df['IMDB Rating'][index] = avg_imdb_rating[5]\n",
    "    elif 6000<index<7000:\n",
    "        df['IMDB Rating'][index] = avg_imdb_rating[6]\n",
    "    elif 7000<index<8000:\n",
    "        df['IMDB Rating'][index] = avg_imdb_rating[7]\n",
    "    elif 8000<index<9000:\n",
    "        df['IMDB Rating'][index] = avg_imdb_rating[8]\n",
    "    elif 9000<index<10000:\n",
    "        df['IMDB Rating'][index] = avg_imdb_rating[9]\n",
    "    elif 10000<index<11000:\n",
    "        df['IMDB Rating'][index] = avg_imdb_rating[10]\n",
    "    else:\n",
    "        df['IMDB Rating'][index] = avg_imdb_rating[11]\n"
   ]
  },
  {
   "cell_type": "code",
   "execution_count": 24,
   "metadata": {},
   "outputs": [
    {
     "data": {
      "text/plain": [
       "0"
      ]
     },
     "execution_count": 24,
     "metadata": {},
     "output_type": "execute_result"
    }
   ],
   "source": [
    "df['IMDB Rating'].isnull().sum()"
   ]
  },
  {
   "cell_type": "markdown",
   "metadata": {},
   "source": [
    "### Handling Steaming PlatForm missing values "
   ]
  },
  {
   "cell_type": "code",
   "execution_count": 25,
   "metadata": {},
   "outputs": [
    {
     "data": {
      "text/plain": [
       "530"
      ]
     },
     "execution_count": 25,
     "metadata": {},
     "output_type": "execute_result"
    }
   ],
   "source": [
    "df['Streaming Platform'].nunique()"
   ]
  },
  {
   "cell_type": "code",
   "execution_count": 26,
   "metadata": {},
   "outputs": [
    {
     "data": {
      "text/plain": [
       "Netflix                               1427\n",
       "Free Services                         1277\n",
       "Prime Video                           1184\n",
       "Hulu                                   665\n",
       "-1                                     479\n",
       "                                      ... \n",
       "Hulu,BBC America                         1\n",
       "Netflix,AMC,fuboTV                       1\n",
       "Prime Video,Science                      1\n",
       "Free Services,Prime Video,Sundance       1\n",
       "Hallmark,fuboTV                          1\n",
       "Name: Streaming Platform, Length: 530, dtype: int64"
      ]
     },
     "execution_count": 26,
     "metadata": {},
     "output_type": "execute_result"
    }
   ],
   "source": [
    "df['Streaming Platform'].value_counts()"
   ]
  },
  {
   "cell_type": "code",
   "execution_count": 27,
   "metadata": {},
   "outputs": [],
   "source": [
    "df['Streaming Platform'].fillna('unknown', inplace=True)"
   ]
  },
  {
   "cell_type": "code",
   "execution_count": 28,
   "metadata": {},
   "outputs": [
    {
     "data": {
      "text/plain": [
       "0"
      ]
     },
     "execution_count": 28,
     "metadata": {},
     "output_type": "execute_result"
    }
   ],
   "source": [
    "df['Streaming Platform'].isnull().sum()"
   ]
  },
  {
   "cell_type": "code",
   "execution_count": 29,
   "metadata": {},
   "outputs": [
    {
     "data": {
      "text/plain": [
       "<matplotlib.axes._subplots.AxesSubplot at 0x1fd32384250>"
      ]
     },
     "execution_count": 29,
     "metadata": {},
     "output_type": "execute_result"
    },
    {
     "data": {
      "image/png": "[encoded data removed]",
      "text/plain": [
       "<Figure size 432x288 with 1 Axes>"
      ]
     },
     "metadata": {
      "needs_background": "light"
     },
     "output_type": "display_data"
    }
   ],
   "source": [
    "sns.heatmap(df.isnull(), cbar=False, yticklabels=False, cmap='viridis')"
   ]
  },
  {
   "cell_type": "code",
   "execution_count": 30,
   "metadata": {},
   "outputs": [],
   "source": [
    "df.drop(['Description','Streaming Platform'], axis=1, inplace=True)"
   ]
  },
  {
   "cell_type": "code",
   "execution_count": 31,
   "metadata": {},
   "outputs": [
    {
     "data": {
      "text/html": [
       "<div>\n",
       "<style scoped>\n",
       "    .dataframe tbody tr th:only-of-type {\n",
       "        vertical-align: middle;\n",
       "    }\n",
       "\n",
       "    .dataframe tbody tr th {\n",
       "        vertical-align: top;\n",
       "    }\n",
       "\n",
       "    .dataframe thead th {\n",
       "        text-align: right;\n",
       "    }\n",
       "</style>\n",
       "<table border=\"1\" class=\"dataframe\">\n",
       "  <thead>\n",
       "    <tr style=\"text-align: right;\">\n",
       "      <th></th>\n",
       "      <th>Series Title</th>\n",
       "      <th>Year Released</th>\n",
       "      <th>Content Rating</th>\n",
       "      <th>IMDB Rating</th>\n",
       "      <th>R Rating</th>\n",
       "      <th>Genre</th>\n",
       "      <th>No of Seasons</th>\n",
       "    </tr>\n",
       "  </thead>\n",
       "  <tbody>\n",
       "    <tr>\n",
       "      <th>0</th>\n",
       "      <td>Breaking Bad</td>\n",
       "      <td>2008</td>\n",
       "      <td>18+</td>\n",
       "      <td>9.5</td>\n",
       "      <td>100</td>\n",
       "      <td>Crime,Drama</td>\n",
       "      <td>5</td>\n",
       "    </tr>\n",
       "    <tr>\n",
       "      <th>1</th>\n",
       "      <td>Game of Thrones</td>\n",
       "      <td>2011</td>\n",
       "      <td>18+</td>\n",
       "      <td>9.3</td>\n",
       "      <td>99</td>\n",
       "      <td>Action &amp; Adventure,Drama</td>\n",
       "      <td>8</td>\n",
       "    </tr>\n",
       "    <tr>\n",
       "      <th>2</th>\n",
       "      <td>Rick and Morty</td>\n",
       "      <td>2013</td>\n",
       "      <td>18+</td>\n",
       "      <td>9.2</td>\n",
       "      <td>97</td>\n",
       "      <td>Animation,Comedy</td>\n",
       "      <td>4</td>\n",
       "    </tr>\n",
       "    <tr>\n",
       "      <th>3</th>\n",
       "      <td>Stranger Things</td>\n",
       "      <td>2016</td>\n",
       "      <td>16+</td>\n",
       "      <td>8.8</td>\n",
       "      <td>96</td>\n",
       "      <td>Drama,Fantasy</td>\n",
       "      <td>3</td>\n",
       "    </tr>\n",
       "    <tr>\n",
       "      <th>4</th>\n",
       "      <td>The Boys</td>\n",
       "      <td>2019</td>\n",
       "      <td>18+</td>\n",
       "      <td>8.7</td>\n",
       "      <td>95</td>\n",
       "      <td>Action &amp; Adventure,Comedy</td>\n",
       "      <td>2</td>\n",
       "    </tr>\n",
       "    <tr>\n",
       "      <th>...</th>\n",
       "      <td>...</td>\n",
       "      <td>...</td>\n",
       "      <td>...</td>\n",
       "      <td>...</td>\n",
       "      <td>...</td>\n",
       "      <td>...</td>\n",
       "      <td>...</td>\n",
       "    </tr>\n",
       "    <tr>\n",
       "      <th>12348</th>\n",
       "      <td>A Fishing Story with Ronnie Green</td>\n",
       "      <td>2017</td>\n",
       "      <td>16+</td>\n",
       "      <td>7.0</td>\n",
       "      <td>-1</td>\n",
       "      <td>2017,Prime Video</td>\n",
       "      <td>2</td>\n",
       "    </tr>\n",
       "    <tr>\n",
       "      <th>12349</th>\n",
       "      <td>CMT Most Shocking</td>\n",
       "      <td>2003</td>\n",
       "      <td>16+</td>\n",
       "      <td>7.0</td>\n",
       "      <td>-1</td>\n",
       "      <td>-1</td>\n",
       "      <td>-1</td>\n",
       "    </tr>\n",
       "    <tr>\n",
       "      <th>12350</th>\n",
       "      <td>NHL Road to the Outdoor Classics</td>\n",
       "      <td>2016</td>\n",
       "      <td>16+</td>\n",
       "      <td>7.0</td>\n",
       "      <td>-1</td>\n",
       "      <td>2016,Prime Video</td>\n",
       "      <td>1</td>\n",
       "    </tr>\n",
       "    <tr>\n",
       "      <th>12351</th>\n",
       "      <td>Addy Media</td>\n",
       "      <td>2018</td>\n",
       "      <td>16+</td>\n",
       "      <td>7.0</td>\n",
       "      <td>-1</td>\n",
       "      <td>2018,Prime Video</td>\n",
       "      <td>1</td>\n",
       "    </tr>\n",
       "    <tr>\n",
       "      <th>12352</th>\n",
       "      <td>My Dream Derelict Home</td>\n",
       "      <td>2014</td>\n",
       "      <td>16+</td>\n",
       "      <td>7.0</td>\n",
       "      <td>-1</td>\n",
       "      <td>2014,Free Services</td>\n",
       "      <td>1</td>\n",
       "    </tr>\n",
       "  </tbody>\n",
       "</table>\n",
       "<p>12353 rows × 7 columns</p>\n",
       "</div>"
      ],
      "text/plain": [
       "                            Series Title  Year Released Content Rating  \\\n",
       "0                           Breaking Bad           2008            18+   \n",
       "1                        Game of Thrones           2011            18+   \n",
       "2                         Rick and Morty           2013            18+   \n",
       "3                        Stranger Things           2016            16+   \n",
       "4                               The Boys           2019            18+   \n",
       "...                                  ...            ...            ...   \n",
       "12348  A Fishing Story with Ronnie Green           2017            16+   \n",
       "12349                  CMT Most Shocking           2003            16+   \n",
       "12350   NHL Road to the Outdoor Classics           2016            16+   \n",
       "12351                         Addy Media           2018            16+   \n",
       "12352             My Dream Derelict Home           2014            16+   \n",
       "\n",
       "       IMDB Rating  R Rating                      Genre No of Seasons  \n",
       "0              9.5       100                Crime,Drama             5  \n",
       "1              9.3        99   Action & Adventure,Drama             8  \n",
       "2              9.2        97           Animation,Comedy             4  \n",
       "3              8.8        96              Drama,Fantasy             3  \n",
       "4              8.7        95  Action & Adventure,Comedy             2  \n",
       "...            ...       ...                        ...           ...  \n",
       "12348          7.0        -1           2017,Prime Video             2  \n",
       "12349          7.0        -1                         -1            -1  \n",
       "12350          7.0        -1           2016,Prime Video             1  \n",
       "12351          7.0        -1           2018,Prime Video             1  \n",
       "12352          7.0        -1         2014,Free Services             1  \n",
       "\n",
       "[12353 rows x 7 columns]"
      ]
     },
     "execution_count": 31,
     "metadata": {},
     "output_type": "execute_result"
    }
   ],
   "source": [
    "df"
   ]
  },
  {
   "cell_type": "code",
   "execution_count": 32,
   "metadata": {},
   "outputs": [],
   "source": [
    "df['Year Released'] = df['Year Released'].astype(str)\n",
    "df['IMDB Rating'] = df['IMDB Rating'].astype(str)\n",
    "df['R Rating'] = df['R Rating'].astype(str)"
   ]
  },
  {
   "cell_type": "code",
   "execution_count": 33,
   "metadata": {},
   "outputs": [
    {
     "name": "stdout",
     "output_type": "stream",
     "text": [
      "<class 'pandas.core.frame.DataFrame'>\n",
      "RangeIndex: 12353 entries, 0 to 12352\n",
      "Data columns (total 7 columns):\n",
      " #   Column          Non-Null Count  Dtype \n",
      "---  ------          --------------  ----- \n",
      " 0   Series Title    12353 non-null  object\n",
      " 1   Year Released   12353 non-null  object\n",
      " 2   Content Rating  12353 non-null  object\n",
      " 3   IMDB Rating     12353 non-null  object\n",
      " 4   R Rating        12353 non-null  object\n",
      " 5   Genre           12353 non-null  object\n",
      " 6   No of Seasons   12353 non-null  object\n",
      "dtypes: object(7)\n",
      "memory usage: 675.7+ KB\n"
     ]
    }
   ],
   "source": [
    "df.info()"
   ]
  },
  {
   "cell_type": "code",
   "execution_count": 34,
   "metadata": {},
   "outputs": [],
   "source": [
    "df[\"Series Title\"] = df[\"Series Title\"].apply(lambda x:x.lower())"
   ]
  },
  {
   "cell_type": "code",
   "execution_count": 35,
   "metadata": {},
   "outputs": [],
   "source": [
    "df['combinaiton'] = df['Series Title']+' '+df['Year Released']+' '+df['Content Rating']+' '+df['IMDB Rating']+' '+df['R Rating']+' '+df['Genre']+' '+ df['No of Seasons']"
   ]
  },
  {
   "cell_type": "code",
   "execution_count": 36,
   "metadata": {},
   "outputs": [
    {
     "data": {
      "text/html": [
       "<div>\n",
       "<style scoped>\n",
       "    .dataframe tbody tr th:only-of-type {\n",
       "        vertical-align: middle;\n",
       "    }\n",
       "\n",
       "    .dataframe tbody tr th {\n",
       "        vertical-align: top;\n",
       "    }\n",
       "\n",
       "    .dataframe thead th {\n",
       "        text-align: right;\n",
       "    }\n",
       "</style>\n",
       "<table border=\"1\" class=\"dataframe\">\n",
       "  <thead>\n",
       "    <tr style=\"text-align: right;\">\n",
       "      <th></th>\n",
       "      <th>Series Title</th>\n",
       "      <th>Year Released</th>\n",
       "      <th>Content Rating</th>\n",
       "      <th>IMDB Rating</th>\n",
       "      <th>R Rating</th>\n",
       "      <th>Genre</th>\n",
       "      <th>No of Seasons</th>\n",
       "      <th>combinaiton</th>\n",
       "    </tr>\n",
       "  </thead>\n",
       "  <tbody>\n",
       "    <tr>\n",
       "      <th>0</th>\n",
       "      <td>breaking bad</td>\n",
       "      <td>2008</td>\n",
       "      <td>18+</td>\n",
       "      <td>9.5</td>\n",
       "      <td>100</td>\n",
       "      <td>Crime,Drama</td>\n",
       "      <td>5</td>\n",
       "      <td>breaking bad 2008 18+ 9.5 100 Crime,Drama 5</td>\n",
       "    </tr>\n",
       "    <tr>\n",
       "      <th>1</th>\n",
       "      <td>game of thrones</td>\n",
       "      <td>2011</td>\n",
       "      <td>18+</td>\n",
       "      <td>9.3</td>\n",
       "      <td>99</td>\n",
       "      <td>Action &amp; Adventure,Drama</td>\n",
       "      <td>8</td>\n",
       "      <td>game of thrones 2011 18+ 9.3 99 Action &amp; Adven...</td>\n",
       "    </tr>\n",
       "    <tr>\n",
       "      <th>2</th>\n",
       "      <td>rick and morty</td>\n",
       "      <td>2013</td>\n",
       "      <td>18+</td>\n",
       "      <td>9.2</td>\n",
       "      <td>97</td>\n",
       "      <td>Animation,Comedy</td>\n",
       "      <td>4</td>\n",
       "      <td>rick and morty 2013 18+ 9.2 97 Animation,Comedy 4</td>\n",
       "    </tr>\n",
       "    <tr>\n",
       "      <th>3</th>\n",
       "      <td>stranger things</td>\n",
       "      <td>2016</td>\n",
       "      <td>16+</td>\n",
       "      <td>8.8</td>\n",
       "      <td>96</td>\n",
       "      <td>Drama,Fantasy</td>\n",
       "      <td>3</td>\n",
       "      <td>stranger things 2016 16+ 8.8 96 Drama,Fantasy 3</td>\n",
       "    </tr>\n",
       "    <tr>\n",
       "      <th>4</th>\n",
       "      <td>the boys</td>\n",
       "      <td>2019</td>\n",
       "      <td>18+</td>\n",
       "      <td>8.7</td>\n",
       "      <td>95</td>\n",
       "      <td>Action &amp; Adventure,Comedy</td>\n",
       "      <td>2</td>\n",
       "      <td>the boys 2019 18+ 8.7 95 Action &amp; Adventure,Co...</td>\n",
       "    </tr>\n",
       "  </tbody>\n",
       "</table>\n",
       "</div>"
      ],
      "text/plain": [
       "      Series Title Year Released Content Rating IMDB Rating R Rating  \\\n",
       "0     breaking bad          2008            18+         9.5      100   \n",
       "1  game of thrones          2011            18+         9.3       99   \n",
       "2   rick and morty          2013            18+         9.2       97   \n",
       "3  stranger things          2016            16+         8.8       96   \n",
       "4         the boys          2019            18+         8.7       95   \n",
       "\n",
       "                       Genre No of Seasons  \\\n",
       "0                Crime,Drama             5   \n",
       "1   Action & Adventure,Drama             8   \n",
       "2           Animation,Comedy             4   \n",
       "3              Drama,Fantasy             3   \n",
       "4  Action & Adventure,Comedy             2   \n",
       "\n",
       "                                         combinaiton  \n",
       "0        breaking bad 2008 18+ 9.5 100 Crime,Drama 5  \n",
       "1  game of thrones 2011 18+ 9.3 99 Action & Adven...  \n",
       "2  rick and morty 2013 18+ 9.2 97 Animation,Comedy 4  \n",
       "3    stranger things 2016 16+ 8.8 96 Drama,Fantasy 3  \n",
       "4  the boys 2019 18+ 8.7 95 Action & Adventure,Co...  "
      ]
     },
     "execution_count": 36,
     "metadata": {},
     "output_type": "execute_result"
    }
   ],
   "source": [
    "df.head()"
   ]
  },
  {
   "cell_type": "code",
   "execution_count": 37,
   "metadata": {},
   "outputs": [],
   "source": [
    "df.to_csv('data.csv', index=False)"
   ]
  },
  {
   "cell_type": "code",
   "execution_count": 38,
   "metadata": {},
   "outputs": [],
   "source": [
    "df_new = pd.read_csv('data.csv')"
   ]
  },
  {
   "cell_type": "code",
   "execution_count": 39,
   "metadata": {},
   "outputs": [
    {
     "name": "stdout",
     "output_type": "stream",
     "text": [
      "<class 'pandas.core.frame.DataFrame'>\n",
      "RangeIndex: 12353 entries, 0 to 12352\n",
      "Data columns (total 8 columns):\n",
      " #   Column          Non-Null Count  Dtype  \n",
      "---  ------          --------------  -----  \n",
      " 0   Series Title    12353 non-null  object \n",
      " 1   Year Released   12353 non-null  int64  \n",
      " 2   Content Rating  12353 non-null  object \n",
      " 3   IMDB Rating     12353 non-null  float64\n",
      " 4   R Rating        12353 non-null  int64  \n",
      " 5   Genre           12353 non-null  object \n",
      " 6   No of Seasons   12353 non-null  int64  \n",
      " 7   combinaiton     12353 non-null  object \n",
      "dtypes: float64(1), int64(3), object(4)\n",
      "memory usage: 772.2+ KB\n"
     ]
    }
   ],
   "source": [
    "df_new.info()"
   ]
  },
  {
   "cell_type": "code",
   "execution_count": 40,
   "metadata": {},
   "outputs": [
    {
     "data": {
      "text/html": [
       "<div>\n",
       "<style scoped>\n",
       "    .dataframe tbody tr th:only-of-type {\n",
       "        vertical-align: middle;\n",
       "    }\n",
       "\n",
       "    .dataframe tbody tr th {\n",
       "        vertical-align: top;\n",
       "    }\n",
       "\n",
       "    .dataframe thead th {\n",
       "        text-align: right;\n",
       "    }\n",
       "</style>\n",
       "<table border=\"1\" class=\"dataframe\">\n",
       "  <thead>\n",
       "    <tr style=\"text-align: right;\">\n",
       "      <th></th>\n",
       "      <th>Series Title</th>\n",
       "      <th>Year Released</th>\n",
       "      <th>Content Rating</th>\n",
       "      <th>IMDB Rating</th>\n",
       "      <th>R Rating</th>\n",
       "      <th>Genre</th>\n",
       "      <th>No of Seasons</th>\n",
       "      <th>combinaiton</th>\n",
       "    </tr>\n",
       "  </thead>\n",
       "  <tbody>\n",
       "    <tr>\n",
       "      <th>count</th>\n",
       "      <td>12353</td>\n",
       "      <td>12353</td>\n",
       "      <td>12353</td>\n",
       "      <td>12353</td>\n",
       "      <td>12353</td>\n",
       "      <td>12353</td>\n",
       "      <td>12353</td>\n",
       "      <td>12353</td>\n",
       "    </tr>\n",
       "    <tr>\n",
       "      <th>unique</th>\n",
       "      <td>12102</td>\n",
       "      <td>86</td>\n",
       "      <td>5</td>\n",
       "      <td>84</td>\n",
       "      <td>88</td>\n",
       "      <td>858</td>\n",
       "      <td>94</td>\n",
       "      <td>12353</td>\n",
       "    </tr>\n",
       "    <tr>\n",
       "      <th>top</th>\n",
       "      <td>kingdom</td>\n",
       "      <td>2017</td>\n",
       "      <td>16+</td>\n",
       "      <td>7.0</td>\n",
       "      <td>-1</td>\n",
       "      <td>-1</td>\n",
       "      <td>1</td>\n",
       "      <td>big bugs band 2011 16+ 6.7 33 Animation,2011 1</td>\n",
       "    </tr>\n",
       "    <tr>\n",
       "      <th>freq</th>\n",
       "      <td>4</td>\n",
       "      <td>1319</td>\n",
       "      <td>7293</td>\n",
       "      <td>2408</td>\n",
       "      <td>807</td>\n",
       "      <td>479</td>\n",
       "      <td>5204</td>\n",
       "      <td>1</td>\n",
       "    </tr>\n",
       "  </tbody>\n",
       "</table>\n",
       "</div>"
      ],
      "text/plain": [
       "       Series Title Year Released Content Rating IMDB Rating R Rating  Genre  \\\n",
       "count         12353         12353          12353       12353    12353  12353   \n",
       "unique        12102            86              5          84       88    858   \n",
       "top         kingdom          2017            16+         7.0       -1     -1   \n",
       "freq              4          1319           7293        2408      807    479   \n",
       "\n",
       "       No of Seasons                                     combinaiton  \n",
       "count          12353                                           12353  \n",
       "unique            94                                           12353  \n",
       "top                1  big bugs band 2011 16+ 6.7 33 Animation,2011 1  \n",
       "freq            5204                                               1  "
      ]
     },
     "execution_count": 40,
     "metadata": {},
     "output_type": "execute_result"
    }
   ],
   "source": [
    "df.describe()"
   ]
  },
  {
   "cell_type": "code",
   "execution_count": 41,
   "metadata": {},
   "outputs": [
    {
     "data": {
      "text/plain": [
       "Series Title      0\n",
       "Year Released     0\n",
       "Content Rating    0\n",
       "IMDB Rating       0\n",
       "R Rating          0\n",
       "Genre             0\n",
       "No of Seasons     0\n",
       "combinaiton       0\n",
       "dtype: int64"
      ]
     },
     "execution_count": 41,
     "metadata": {},
     "output_type": "execute_result"
    }
   ],
   "source": [
    "df.isnull().sum()"
   ]
  },
  {
   "cell_type": "code",
   "execution_count": 42,
   "metadata": {},
   "outputs": [
    {
     "data": {
      "text/plain": [
       "<matplotlib.axes._subplots.AxesSubplot at 0x1fd32b11580>"
      ]
     },
     "execution_count": 42,
     "metadata": {},
     "output_type": "execute_result"
    },
    {
     "data": {
      "image/png": "[encoded data removed]",
      "text/plain": [
       "<Figure size 432x288 with 1 Axes>"
      ]
     },
     "metadata": {
      "needs_background": "light"
     },
     "output_type": "display_data"
    }
   ],
   "source": [
    "sns.distplot(df['IMDB Rating'])"
   ]
  },
  {
   "cell_type": "code",
   "execution_count": null,
   "metadata": {},
   "outputs": [],
   "source": []
  }
 ],
 "metadata": {
  "kernelspec": {
   "display_name": "Python 3",
   "language": "python",
   "name": "python3"
  },
  "language_info": {
   "codemirror_mode": {
    "name": "ipython",
    "version": 3
   },
   "file_extension": ".py",
   "mimetype": "text/x-python",
   "name": "python",
   "nbconvert_exporter": "python",
   "pygments_lexer": "ipython3",
   "version": "3.8.3"
  }
 },
 "nbformat": 4,
 "nbformat_minor": 4
}
